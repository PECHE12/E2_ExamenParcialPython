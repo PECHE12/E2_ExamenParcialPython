{
 "cells": [
  {
   "cell_type": "markdown",
   "metadata": {},
   "source": [
    "<img src=\"https://www.ikiam.edu.ec/img/logo-ikiam-grey.png\" width=300 height=240 />\n",
    "\n",
    "\n",
    "## GBI6-2021II: BIOINFORMÁTICA\n",
    "\n",
    "** Betsabe Arcos** \n",
    "\n",
    "**22-02-2021**"
   ]
  },
  {
   "cell_type": "markdown",
   "metadata": {},
   "source": [
    "<font color='red'>NO AGREGUE NUEVAS CELDAS, UTILICE ÚNICAMENTE LAS QUE ESTÁN CREADAS</font>\n"
   ]
  },
  {
   "cell_type": "markdown",
   "metadata": {},
   "source": [
    "### REQUERIMIENTOS PARA EL EXAMEN"
   ]
  },
  {
   "cell_type": "markdown",
   "metadata": {},
   "source": [
    "## Ejercicio 1 [2 puntos]"
   ]
  },
  {
   "cell_type": "code",
   "execution_count": null,
   "metadata": {
    "scrolled": true
   },
   "outputs": [],
   "source": [
    "def download_pubmed (keyword):\n",
    "    \"\"\"\n",
    "    codígo que nos permite con imput una busqueda e indica la lista de PubMed\n",
    "    \"\"\"\n",
    "    from Bio import Entrez\n",
    "    from Bio import SeqIO\n",
    "    from Bio import GenBank \n",
    "    Entrez.email = 'maria.arcos@est.ikiam.edu.ec'\n",
    "    handle = Entrez.esearch(db='pubmed',\n",
    "                        sort='relevance',\n",
    "                        retmax='200',\n",
    "                        retmode='xml',\n",
    "                        term=keyword)\n",
    "    results = Entrez.read(handle)\n",
    "    id_list = results[\"IdList\"]\n",
    "    ids = ','.join(id_list)\n",
    "    Entrez.email = 'maria.arcos@est.ikiam.edu.ec'\n",
    "    handle = Entrez.efetch(db='pubmed',\n",
    "                       retmode='xml',\n",
    "                       id=ids)\n",
    "    lista_id = ids.split(\",\")\n",
    "    return (lista_id) \n",
    "\n",
    "\n",
    "import csv \n",
    "import re\n",
    "import pandas as pd \n",
    "from collections import Counter\n",
    "\n",
    "def mining_pubs(tipo):\n",
    "    \"\"\" \n",
    "    Código que permite ver tres variables: \"DP\", \"AU\" y \"AD\" \n",
    "    \"\"\"\n",
    "    with open(\"pubmed-EcuadorGen-set.txt\", errors=\"ignore\") as f: \n",
    "        texto = f.read() \n",
    "    if tipo == \"DP\":\n",
    "        PMID = re.findall(\"PMID- (\\d*)\", texto) \n",
    "        year = re.findall(\"DP\\s{2}-\\s(\\d{4})\", texto)\n",
    "        pmid_y = pd.DataFrame()\n",
    "        pmid_y[\"PMID\"] = PMID\n",
    "        pmid_y[\"Año de publicación\"] = year\n",
    "        return (pmid_y)\n",
    "    elif tipo == \"AU\": \n",
    "        PMID = re.findall(\"PMID- (\\d*)\", texto) \n",
    "        autores = texto.split(\"PMID- \")\n",
    "        autores.pop(0)\n",
    "        num_autores = []\n",
    "        for i in range(len(autores)):\n",
    "            numero = re.findall(\"AU -\", autores[i])\n",
    "            n = (len(numero))\n",
    "            num_autores.append(n)\n",
    "        pmid_a = pd.DataFrame()\n",
    "        pmid_a[\"PMID\"] = PMID \n",
    "        pmid_a[\"Numero de autores\"] = num_autores\n",
    "        return (pmid_a)\n",
    "    elif tipo == \"AD\": \n",
    "        texto = re.sub(r\" [A-Z]{1}\\.\",\"\", texto)\n",
    "        texto = re.sub(r\"Av\\.\",\"\", texto)\n",
    "        texto = re.sub(r\"Vic\\.\",\"\", texto)\n",
    "        texto = re.sub(r\"Tas\\.\",\"\", texto)\n",
    "        AD = texto.split(\"AD  - \")\n",
    "        n_paises = []\n",
    "        for i in range(len(AD)): \n",
    "            pais = re.findall(\"\\S, ([A-Za-z]*)\\.\", AD[i])\n",
    "            if not pais == []: \n",
    "                if not len(pais) >= 2:  \n",
    "                    if re.findall(\"^[A-Z]\", pais[0]): \n",
    "                        n_paises.append(pais[0])\n",
    "        conteo=Counter(n_paises)\n",
    "        resultado = {}\n",
    "        for clave in conteo:\n",
    "            valor = conteo[clave]\n",
    "            if valor != 1: \n",
    "                resultado[clave] = valor \n",
    "        veces_pais = pd.DataFrame()\n",
    "        veces_pais[\"pais\"] = resultado.keys()\n",
    "        veces_pais[\"numero de autores\"] = resultado.values()\n",
    "        return (veces_pais)\n",
    "\n",
    "import miningscience as msc \n",
    "help(download_pubmed)\n",
    "help(mining_pubs)\n"
   ]
  },
  {
   "cell_type": "markdown",
   "metadata": {},
   "source": [
    "\n",
    "## Ejercicio 2 [1 punto]"
   ]
  },
  {
   "cell_type": "code",
   "execution_count": null,
   "metadata": {},
   "outputs": [],
   "source": [
    "journals = download_pubmed(\"Ecuador Genomics\")\n",
    "\n",
    "print (\"El numero de articulos es:\", len(journals)) \n",
    "\n",
    "print (\"El PMID del primer articulo es:\", journals[0])\n"
   ]
  },
  {
   "cell_type": "markdown",
   "metadata": {},
   "source": [
    "## Ejercicio 3 [1 punto]"
   ]
  },
  {
   "cell_type": "code",
   "execution_count": null,
   "metadata": {},
   "outputs": [],
   "source": [
    "import miningscience as msc\n",
    "pub_año = msc.mining_pubs(\"DP\")\n",
    "print (pub_año.iloc[0:2])\n",
    "print (pub_año.iloc[670:])\n",
    "pub_autor = msc.mining_pubs(\"AU\")\n",
    "print (pub_autor.iloc[0:2])\n",
    "print (pub_autor.iloc[670:])\n",
    "countries = msc.mining_pubs(\"AD\")\n",
    "print (countries.iloc[0:2])\n",
    "print (countries.iloc[130:])"
   ]
  },
  {
   "cell_type": "markdown",
   "metadata": {
    "jp-MarkdownHeadingCollapsed": true,
    "tags": []
   },
   "source": [
    "## Ejercicio 4 [2 puntos]"
   ]
  },
  {
   "cell_type": "code",
   "execution_count": null,
   "metadata": {},
   "outputs": [],
   "source": [
    "import pandas as pd \n",
    "import matplotlib.pyplot as plot\n",
    "from collections import Counter\n",
    "pub_año[\"Año de publicación\"] = pub_año[\"Año de publicación\"].astype(\"int\")\n",
    "mean_py = pub_año[\"Año de publicación\"].mean()\n",
    "sd_py = pub_año[\"Año de publicación\"].std()\n",
    "print (\"La media es: \", mean_py)\n",
    "print (\"La desviación estandar es: \", sd_py)\n",
    "#print (pub_year[\"Año de publicación\"])\n",
    "intervalos = range(min(pub_año[\"Año de publicación\"]), max(pub_año[\"Año de publicación\"]))\n",
    "plot.hist(x=pub_año[\"Año de publicación\"], color = \"blue\")\n",
    "plot.title(\"articulos en funcion del año de publicación\")\n",
    "plot.xlabel(\"Año\")\n",
    "plot.ylabel(\"Repeticiones\")"
   ]
  },
  {
   "cell_type": "code",
   "execution_count": null,
   "metadata": {},
   "outputs": [],
   "source": [
    "boxplot = pub_autor[0:827].boxplot(column=[\"Numero de autores\"])\n",
    "plot.title(\"Autores por articulo publicado\")\n",
    "plot.ylabel(\"Frecuencia\")\n",
    "print (pub_autor)"
   ]
  },
  {
   "cell_type": "code",
   "execution_count": null,
   "metadata": {},
   "outputs": [],
   "source": [
    "countries = countries.sort_values(\"numero de autores\")\n",
    "max_pais = (countries[104:])\n",
    "\n",
    "countries_lat = [39.399872, 4.570868, 41.87194, 46.227638, 51.165691, 55.378051, \n",
    "                40.463667, -14.235004, 37.09024, -1.831239  ] \n",
    "                 \n",
    "countries_long = [-8.224454, -74.297333, 12.56738, 2.213749, 10.451526, -3.435973,  \n",
    "                 -3.74922, -51.92528, -95.712891, -78.183406]\n",
    "repeticiones = [143, 173, 177, 221, 253, 316, 499, 501, 784, 1206]\n",
    "\n",
    "import matplotlib.pyplot as plot\n",
    "%matplotlib inline\n",
    "\n",
    "plot.scatter(countries_lat, countries_long, repeticiones) \n",
    "plot.colorbar()\n",
    "ard = dict(arrowstyle=\"->\")\n",
    "plot.annotate(\"Ecuador\", xy = (-1.831239, -78.183406 ), \n",
    "             xytext = (10,0), arrowprops = ard) \n",
    "plot.annotate(\"Francia\", xy= (46.227638, 2.213749), \n",
    "            xytext = (40, -20), arrowprops = ard)\n",
    "plot.annotate(\"Naciones Unidas\", xy= (55.378051, -3.435973), \n",
    "            xytext = (-10, -20), arrowprops = ard)\n",
    "params = plot.gcf()\n",
    "plSize = params.get_size_inches()\n",
    "params.set_size_inches( (plSize[0] * 3, plSize[1] * 3) )\n",
    "plot.show()"
   ]
  },
  {
   "cell_type": "markdown",
   "metadata": {},
   "source": [
    "## Ejercicio 5 [1 punto]\n",
    "\n",
    "Interprete los resultados del **ejercicio 4**"
   ]
  },
  {
   "cell_type": "markdown",
   "metadata": {},
   "source": [
    "### En la figura del ejercicio 4 se pude se obsevar una gráfica que contiene articulos en función del año de publicación desde el 1980 hasta el 2020 y su constantes repeticiónes.\n",
    "### También,se logra entender en la tabla el número de autores y su frecuencia al publicar los articulos.\n",
    "### Este ejercicio permite obtener la desviacion estandar,sus repeticiones."
   ]
  },
  {
   "cell_type": "markdown",
   "metadata": {},
   "source": [
    "## Ejercicio 6 [2 puntos]\n",
    "\n",
    "Para algún gen de interés, realice lo siguiente: \n",
    "\n",
    "1. Una búsqueda en la página del [NCBI nucleotide](https://www.ncbi.nlm.nih.gov/nucleotide/).\n",
    "\n",
    "2. Descargue el ```Accession List``` de su búsqueda.\n",
    "\n",
    "3. Cargue el ```Accession List``` en este notebook y haga una descarga de la data tipo ```genbank``` utilizando los diez primeros IDs de accesión. \n",
    "\n",
    "4. Arme un árbol filogenético para los resultados del paso 3.\n",
    "\n",
    "5. Interprete el árbol del paso 4. "
   ]
  },
  {
   "cell_type": "code",
   "execution_count": 3,
   "metadata": {},
   "outputs": [
    {
     "ename": "AssertionError",
     "evalue": "Clustal_W executable is missing or not found",
     "output_type": "error",
     "traceback": [
      "\u001b[1;31m---------------------------------------------------------------------------\u001b[0m",
      "\u001b[1;31mAssertionError\u001b[0m                            Traceback (most recent call last)",
      "\u001b[1;32m<ipython-input-3-572677f26f9b>\u001b[0m in \u001b[0;36m<module>\u001b[1;34m\u001b[0m\n\u001b[0;32m     60\u001b[0m \u001b[0mclustalw_exe\u001b[0m \u001b[1;33m=\u001b[0m \u001b[1;34mr\"C:\\Program Files (x86)\\ClustalW2\\clustalw2.exe\"\u001b[0m\u001b[1;33m\u001b[0m\u001b[1;33m\u001b[0m\u001b[0m\n\u001b[0;32m     61\u001b[0m \u001b[0mclustalw_cline\u001b[0m \u001b[1;33m=\u001b[0m \u001b[0mClustalwCommandline\u001b[0m\u001b[1;33m(\u001b[0m\u001b[0mclustalw_exe\u001b[0m\u001b[1;33m,\u001b[0m \u001b[0minfile\u001b[0m \u001b[1;33m=\u001b[0m \u001b[1;34m\"sequence.fasta\"\u001b[0m\u001b[1;33m)\u001b[0m\u001b[1;33m\u001b[0m\u001b[1;33m\u001b[0m\u001b[0m\n\u001b[1;32m---> 62\u001b[1;33m \u001b[1;32massert\u001b[0m \u001b[0mos\u001b[0m\u001b[1;33m.\u001b[0m\u001b[0mpath\u001b[0m\u001b[1;33m.\u001b[0m\u001b[0misfile\u001b[0m\u001b[1;33m(\u001b[0m\u001b[0mclustalw_exe\u001b[0m\u001b[1;33m)\u001b[0m\u001b[1;33m,\u001b[0m \u001b[1;34m\"Clustal_W executable is missing or not found\"\u001b[0m\u001b[1;33m\u001b[0m\u001b[1;33m\u001b[0m\u001b[0m\n\u001b[0m\u001b[0;32m     63\u001b[0m \u001b[0mstdout\u001b[0m\u001b[1;33m,\u001b[0m \u001b[0mstderr\u001b[0m \u001b[1;33m=\u001b[0m \u001b[0mclustalw_cline\u001b[0m\u001b[1;33m(\u001b[0m\u001b[1;33m)\u001b[0m\u001b[1;33m\u001b[0m\u001b[1;33m\u001b[0m\u001b[0m\n\u001b[0;32m     64\u001b[0m \u001b[0mprint\u001b[0m\u001b[1;33m(\u001b[0m\u001b[0mclustalw_cline\u001b[0m\u001b[1;33m)\u001b[0m\u001b[1;33m\u001b[0m\u001b[1;33m\u001b[0m\u001b[0m\n",
      "\u001b[1;31mAssertionError\u001b[0m: Clustal_W executable is missing or not found"
     ]
    }
   ],
   "source": [
    "# Códigos\n",
    "from IPython.core.display import Image\n",
    "from Bio.Seq import Seq\n",
    "from Bio.SeqUtils import GC\n",
    "\n",
    "from reportlab.lib import colors\n",
    "from reportlab.lib.units import cm\n",
    "from Bio.Graphics import GenomeDiagram\n",
    "from Bio import SeqIO\n",
    "from Bio.SeqFeature import SeqFeature, FeatureLocation\n",
    "\n",
    "# Filogenia\n",
    "from Bio import Phylo\n",
    "from Bio.Phylo.TreeConstruction import DistanceCalculator\n",
    "from Bio.Phylo.TreeConstruction import DistanceTreeConstructor\n",
    "from Bio import AlignIO\n",
    "\n",
    "# Proteómica\n",
    "from Bio.PDB import *\n",
    "from Bio.SeqUtils.ProtParam import ProteinAnalysis\n",
    "from Bio.SeqUtils.ProtParam import ProtParamData\n",
    "import nglview as nv\n",
    "import ipywidgets\n",
    "import warnings\n",
    "warnings.filterwarnings('ignore')\n",
    "import Bio\n",
    "from Bio import Entrez\n",
    "from Bio import Entrez\n",
    "import re\n",
    "from Bio.Align.Applications import ClustalwCommandline\n",
    "import os\n",
    "import matplotlib\n",
    "import matplotlib.pyplot as plt\n",
    "\n",
    "with open(\"sequence.seq\",\"r\") as archivo:\n",
    "    b=archivo.read()\n",
    "    c=b.split('\\n')\n",
    "    a=0\n",
    "    ListID=[]\n",
    "    for line in c:\n",
    "        if a != 10:\n",
    "            ListID.append(line)\n",
    "            a=a+1\n",
    "listasf = []\n",
    "Entrez.email = \"maria.arcos@est.ikiam.edu.ec\" \n",
    "ofile=open('sequence.gb','w')\n",
    "with Entrez.efetch( db=\"nucleotide\", rettype=\"gb\", retmode=\"text\", id= ListID) as handle: \n",
    "    for seq_record in SeqIO.parse(handle, \"gb\"): \n",
    "        ofile.write(\">\"+str(seq_record.id)+str(seq_record.description[:50])+'\\n')\n",
    "        ofile.write(str(seq_record.seq)+'\\n')\n",
    "        ofile.write('\\n')\n",
    "ffile=open('sequence.fasta','w')\n",
    "with open(\"sequence.gb\",'r') as genbank:\n",
    "    c=genbank.read()\n",
    "    for line in c:\n",
    "        ffile.write(str(line))\n",
    "\n",
    "from Bio.Align.Applications import ClustalwCommandline\n",
    "import os\n",
    "clustalw_exe = r\"C:\\Program Files (x86)\\ClustalW2\\clustalw2.exe\"\n",
    "clustalw_cline = ClustalwCommandline(clustalw_exe, infile = \"sequence.fasta\")\n",
    "assert os.path.isfile(clustalw_exe), \"Clustal_W executable is missing or not found\"\n",
    "stdout, stderr = clustalw_cline()\n",
    "print(clustalw_cline)\n",
    "#print(clustalw_cline)\n",
    "ClustalAlign = AlignIO.read(\"sequence.aln\", \"clustal\")\n",
    "#print(ClustalAlign)\n",
    "#with open(\"Data/SequenceD.aln\",\"r\") as aln: \n",
    " #   alignment = AlignIO.read(aln,\"clustal\")\n",
    "    \n",
    "#with open(\"data/sharks.aln\",\"r\") as aln: \n",
    " #   alignment = AlignIO.read(aln,\"clustal\")\n",
    "# Inicializar la calculadora de Distancias y del modelo \n",
    "from Bio.Phylo.TreeConstruction import DistanceCalculator \n",
    "calculator = DistanceCalculator('identity')\n",
    "# Matriz de Distancias \n",
    "distance_matrix = calculator.get_distance(ClustalAlign)\n",
    "#print(distance_matrix)\n",
    "\n",
    "\n",
    "# Inicializar el constructor del arbol ( Tree Constructor )\n",
    "from Bio.Phylo.TreeConstruction import DistanceTreeConstructor\n",
    "constructor = DistanceTreeConstructor(calculator)\n",
    "# Construir el arbol \n",
    "Chyku_tree = constructor.build_tree(ClustalAlign)\n",
    "Chyku_tree.rooted = True\n",
    "# Guardar el arbol \n",
    "Phylo.write(Chyku_tree, \"Gastropoda.xml\", \"phyloxml\")\n",
    "Chyku_tree = Phylo.read(file=\"Gastropoda.xml\", format= \"phyloxml\")\n",
    "\n",
    "# Make a better looking tree using the features of matplotlib \n",
    "\n",
    "fig = plt.figure(figsize=(10, 20), dpi=300) # create figure & set the size \n",
    "matplotlib.rc('font', size=12)              # fontsize of the leaf and node labels \n",
    "matplotlib.rc('xtick', labelsize=10)       # fontsize of the tick labels\n",
    "matplotlib.rc('ytick', labelsize=10)       # fontsize of the tick labels\n",
    "axes = fig.add_subplot(1, 1, 1)\n",
    "Phylo.draw(Gastropoda_tree, axes=axes)\n",
    "fig.savefig(\"Gastropoda\")\n",
    "\n"
   ]
  },
  {
   "cell_type": "markdown",
   "metadata": {},
   "source": [
    "#No se puede observar el arbol filogenetico."
   ]
  },
  {
   "cell_type": "markdown",
   "metadata": {},
   "source": [
    "## Ejercicio 7 [1 punto]\n",
    "\n",
    "\n",
    "1. Cree en GitHub un repositorio de nombre ```GBI6_ExamenPython```. \n",
    "2. Cree un archivo ```Readme.md``` que debe tener lo siguiente: \n",
    "- Datos personales\n",
    "- Características del computador\n",
    "- Versión de Python/Anaconda y de cada uno de los módulos/paquetes y utilizados\n",
    "- Explicación de la data utilizada\n",
    "\n",
    "3. Cree un directorio de nombre ```data``` donde deben estar guardado la data utilizada \n",
    "4. Realice al menos 1 control de la versión (commits) por cada ejercicio (del 1 al 6), con un mensaje que inicie como: \n",
    "\n",
    "```sh \n",
    "Carlitos Alimaña ha realizado .....  \n",
    "```"
   ]
  },
  {
   "cell_type": "code",
   "execution_count": null,
   "metadata": {},
   "outputs": [],
   "source": []
  }
 ],
 "metadata": {
  "kernelspec": {
   "display_name": "Python 3",
   "language": "python",
   "name": "python3"
  },
  "language_info": {
   "codemirror_mode": {
    "name": "ipython",
    "version": 3
   },
   "file_extension": ".py",
   "mimetype": "text/x-python",
   "name": "python",
   "nbconvert_exporter": "python",
   "pygments_lexer": "ipython3",
   "version": "3.8.8"
  },
  "latex_envs": {
   "LaTeX_envs_menu_present": true,
   "autoclose": false,
   "autocomplete": true,
   "bibliofile": "biblio.bib",
   "cite_by": "apalike",
   "current_citInitial": 1,
   "eqLabelWithNumbers": true,
   "eqNumInitial": 1,
   "hotkeys": {
    "equation": "Ctrl-E",
    "itemize": "Ctrl-I"
   },
   "labels_anchors": false,
   "latex_user_defs": false,
   "report_style_numbering": false,
   "user_envs_cfg": false
  },
  "toc": {
   "base_numbering": 1,
   "nav_menu": {},
   "number_sections": true,
   "sideBar": false,
   "skip_h1_title": false,
   "title_cell": "Table of Contents",
   "title_sidebar": "Contents",
   "toc_cell": false,
   "toc_position": {
    "height": "1152.67px",
    "left": "41px",
    "top": "110px",
    "width": "253.458px"
   },
   "toc_section_display": true,
   "toc_window_display": false
  },
  "varInspector": {
   "cols": {
    "lenName": 16,
    "lenType": 16,
    "lenVar": 40
   },
   "kernels_config": {
    "python": {
     "delete_cmd_postfix": "",
     "delete_cmd_prefix": "del ",
     "library": "var_list.py",
     "varRefreshCmd": "print(var_dic_list())"
    },
    "r": {
     "delete_cmd_postfix": ") ",
     "delete_cmd_prefix": "rm(",
     "library": "var_list.r",
     "varRefreshCmd": "cat(var_dic_list()) "
    }
   },
   "types_to_exclude": [
    "module",
    "function",
    "builtin_function_or_method",
    "instance",
    "_Feature"
   ],
   "window_display": false
  }
 },
 "nbformat": 4,
 "nbformat_minor": 4
}
